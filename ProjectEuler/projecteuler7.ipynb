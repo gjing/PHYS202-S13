{
 "metadata": {
  "name": "projecteuler7.ipynb"
 },
 "nbformat": 3,
 "nbformat_minor": 0,
 "worksheets": [
  {
   "cells": [
    {
     "cell_type": "markdown",
     "metadata": {},
     "source": [
      "10001st prime\n",
      "=\n",
      "Problem 7\n",
      "-\n",
      "By listing the first six prime numbers: 2, 3, 5, 7, 11, and 13, we can see that the 6th prime is 13.\n",
      "\n",
      "What is the 10 001st prime number?"
     ]
    },
    {
     "cell_type": "code",
     "collapsed": false,
     "input": [
      "def is_prime(n):\n",
      "    if n%2 == 0:\n",
      "        return False\n",
      "    else:\n",
      "        for x in range(3,n/2,2):\n",
      "            if n%x == 0:\n",
      "                return False\n",
      "        return True"
     ],
     "language": "python",
     "metadata": {},
     "outputs": [],
     "prompt_number": 11
    },
    {
     "cell_type": "code",
     "collapsed": false,
     "input": [
      "is_prime(13)"
     ],
     "language": "python",
     "metadata": {},
     "outputs": [
      {
       "output_type": "pyout",
       "prompt_number": 12,
       "text": [
        "True"
       ]
      }
     ],
     "prompt_number": 12
    },
    {
     "cell_type": "code",
     "collapsed": false,
     "input": [
      "def nthprime(n):\n",
      "    x = 1\n",
      "    for y in range(3,1000000,2):\n",
      "        if is_prime(y):\n",
      "            if x==n-1:\n",
      "                return y\n",
      "            else:\n",
      "                x+=1"
     ],
     "language": "python",
     "metadata": {},
     "outputs": [],
     "prompt_number": 24
    },
    {
     "cell_type": "code",
     "collapsed": false,
     "input": [
      "nthprime(6)"
     ],
     "language": "python",
     "metadata": {},
     "outputs": [
      {
       "output_type": "pyout",
       "prompt_number": 25,
       "text": [
        "13"
       ]
      }
     ],
     "prompt_number": 25
    },
    {
     "cell_type": "code",
     "collapsed": false,
     "input": [
      "nthprime(10001)"
     ],
     "language": "python",
     "metadata": {},
     "outputs": [
      {
       "output_type": "pyout",
       "prompt_number": 26,
       "text": [
        "104743"
       ]
      }
     ],
     "prompt_number": 26
    },
    {
     "cell_type": "code",
     "collapsed": false,
     "input": [],
     "language": "python",
     "metadata": {},
     "outputs": []
    }
   ],
   "metadata": {}
  }
 ]
}