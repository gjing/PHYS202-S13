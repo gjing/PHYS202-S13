{
 "metadata": {
  "name": "NumpyEx1"
 },
 "nbformat": 3,
 "nbformat_minor": 0,
 "worksheets": [
  {
   "cells": [
    {
     "cell_type": "markdown",
     "metadata": {},
     "source": [
      "1) Create the following arrays with correct data types:"
     ]
    },
    {
     "cell_type": "code",
     "collapsed": false,
     "input": [
      "import numpy as np"
     ],
     "language": "python",
     "metadata": {},
     "outputs": [],
     "prompt_number": 1
    },
    {
     "cell_type": "code",
     "collapsed": false,
     "input": [
      "a = np.array([[1, 1, 1, 1],[1, 1, 1, 1],[1, 1, 1, 2],[1, 6, 1, 1]])"
     ],
     "language": "python",
     "metadata": {},
     "outputs": [],
     "prompt_number": 3
    },
    {
     "cell_type": "code",
     "collapsed": false,
     "input": [
      "b = np.array([[0., 0., 0., 0., 0.],[2., 0., 0., 0., 0.],[0., 3., 0., 0., 0.],[0., 0., 4., 0., 0.],[0., 0., 0., 5., 0.],[0., 0., 0., 0., 6.]])"
     ],
     "language": "python",
     "metadata": {},
     "outputs": [],
     "prompt_number": 4
    },
    {
     "cell_type": "markdown",
     "metadata": {},
     "source": [
      "2) Read the documentation for np.tile and use this function to construct the following\n",
      "array:"
     ]
    },
    {
     "cell_type": "code",
     "collapsed": false,
     "input": [
      "c = np.array(np.tile([[4,3],[2,1]],(2,3)))"
     ],
     "language": "python",
     "metadata": {},
     "outputs": [],
     "prompt_number": 10
    },
    {
     "cell_type": "code",
     "collapsed": false,
     "input": [
      "c"
     ],
     "language": "python",
     "metadata": {},
     "outputs": [
      {
       "output_type": "pyout",
       "prompt_number": 11,
       "text": [
        "array([[4, 3, 4, 3, 4, 3],\n",
        "       [2, 1, 2, 1, 2, 1],\n",
        "       [4, 3, 4, 3, 4, 3],\n",
        "       [2, 1, 2, 1, 2, 1]])"
       ]
      }
     ],
     "prompt_number": 11
    },
    {
     "cell_type": "markdown",
     "metadata": {},
     "source": [
      "3) Let's create a prime number sieve. We will use the sieve to see what numbers between\n",
      "0 and 100 are prime."
     ]
    },
    {
     "cell_type": "markdown",
     "metadata": {},
     "source": [
      "(a) First, construct an array of booleans called is prime with shape (100,), \f",
      "lled with\n",
      "True in all the elements."
     ]
    },
    {
     "cell_type": "code",
     "collapsed": false,
     "input": [
      "is_prime = np.ones((100,), dtype=bool)"
     ],
     "language": "python",
     "metadata": {},
     "outputs": [],
     "prompt_number": 12
    },
    {
     "cell_type": "markdown",
     "metadata": {},
     "source": [
      "(b) The index of each boolean element represents the number. \\Cross out\" 0 and 1, which\n",
      "are not primes. You can either set them to False or 0 (which python recognizes as equiv-\n",
      "alent to False for boolean types)."
     ]
    },
    {
     "cell_type": "markdown",
     "metadata": {},
     "source": [
      "(c) For each subsequent integer j starting from 2, cross out its higher multiples:"
     ]
    },
    {
     "cell_type": "code",
     "collapsed": false,
     "input": [
      "N_max = int(np.sqrt(len(is_prime)))\n",
      "for j in range(2, N_max):\n",
      "    is_prime[2*j::j] = False"
     ],
     "language": "python",
     "metadata": {},
     "outputs": [],
     "prompt_number": 13
    },
    {
     "cell_type": "code",
     "collapsed": false,
     "input": [
      "is_prime"
     ],
     "language": "python",
     "metadata": {},
     "outputs": [
      {
       "output_type": "pyout",
       "prompt_number": 14,
       "text": [
        "array([ True,  True,  True,  True, False,  True, False,  True, False,\n",
        "       False, False,  True, False,  True, False, False, False,  True,\n",
        "       False,  True, False, False, False,  True, False, False, False,\n",
        "       False, False,  True, False,  True, False, False, False, False,\n",
        "       False,  True, False, False, False,  True, False,  True, False,\n",
        "       False, False,  True, False, False, False, False, False,  True,\n",
        "       False, False, False, False, False,  True, False,  True, False,\n",
        "       False, False, False, False,  True, False, False, False,  True,\n",
        "       False,  True, False, False, False, False, False,  True, False,\n",
        "       False, False,  True, False, False, False, False, False,  True,\n",
        "       False, False, False, False, False, False, False,  True, False, False], dtype=bool)"
       ]
      }
     ],
     "prompt_number": 14
    },
    {
     "cell_type": "markdown",
     "metadata": {},
     "source": [
      "replaces the non-prime numbers with False"
     ]
    },
    {
     "cell_type": "markdown",
     "metadata": {},
     "source": [
      "(d) Look up the documentation for np.nonzero (try help(np.nonzero)) and use it to print the prime numbers."
     ]
    },
    {
     "cell_type": "code",
     "collapsed": false,
     "input": [
      "print np.nonzero(is_prime)"
     ],
     "language": "python",
     "metadata": {},
     "outputs": [
      {
       "output_type": "stream",
       "stream": "stdout",
       "text": [
        "(array([ 0,  1,  2,  3,  5,  7, 11, 13, 17, 19, 23, 29, 31, 37, 41, 43, 47,\n",
        "       53, 59, 61, 67, 71, 73, 79, 83, 89, 97]),)\n"
       ]
      }
     ],
     "prompt_number": 18
    },
    {
     "cell_type": "code",
     "collapsed": false,
     "input": [],
     "language": "python",
     "metadata": {},
     "outputs": []
    }
   ],
   "metadata": {}
  }
 ]
}