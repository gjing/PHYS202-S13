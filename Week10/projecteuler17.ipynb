{
 "metadata": {
  "name": "projecteuler17.ipynb"
 },
 "nbformat": 3,
 "nbformat_minor": 0,
 "worksheets": [
  {
   "cells": [
    {
     "cell_type": "markdown",
     "metadata": {},
     "source": [
      "I completely forgot about this until today\n",
      "-\n",
      "Number letter counts\n",
      "=\n",
      "Problem 17\n",
      "-\n",
      "If the numbers 1 to 5 are written out in words: one, two, three, four, five, then there are 3 + 3 + 5 + 4 + 4 = 19 letters used in total.\n",
      "\n",
      "If all the numbers from 1 to 1000 (one thousand) inclusive were written out in words, how many letters would be used?"
     ]
    },
    {
     "cell_type": "code",
     "collapsed": false,
     "input": [
      "units = \"zero one two three four five six seven eight nine ten eleven twelve thirteen fourteen fifteen sixteen seventeen eighteen nineteen\".split()\n",
      "tens = \"zero ten twenty thirty forty fifty sixty seventy eighty ninety\".split()\n",
      "\n",
      "def english(n):\n",
      "    if n >= 1000:\n",
      "        th = english(n // 1000) + \"thousand\"\n",
      "        n = n % 1000\n",
      "        if n == 0:\n",
      "            return th\n",
      "        elif n < 100:\n",
      "            return th + \"and\" + english(n)\n",
      "        else:\n",
      "            return th + english(n)\n",
      "    elif n >= 100:\n",
      "        huns = units[n // 100] + \"hundred\"\n",
      "        n = n % 100\n",
      "        if n == 0:\n",
      "            return huns\n",
      "        else:\n",
      "            return huns + \"and\" + english(n)\n",
      "    elif n >= 20:\n",
      "        ten = tens[n // 10]\n",
      "        n = n % 10\n",
      "        if n == 0:\n",
      "            return ten\n",
      "        else:\n",
      "            return ten +english(n)\n",
      "    else:\n",
      "        return units[n]\n",
      "    \n",
      "def letters(num):\n",
      "    count = 0\n",
      "    for i in range(1, num+1):\n",
      "        count+=len(english(i))\n",
      "    return count"
     ],
     "language": "python",
     "metadata": {},
     "outputs": [],
     "prompt_number": 46
    },
    {
     "cell_type": "code",
     "collapsed": false,
     "input": [
      "#test case\n",
      "letters(5)"
     ],
     "language": "python",
     "metadata": {},
     "outputs": [
      {
       "output_type": "pyout",
       "prompt_number": 47,
       "text": [
        "19"
       ]
      }
     ],
     "prompt_number": 47
    },
    {
     "cell_type": "code",
     "collapsed": false,
     "input": [
      "letters(1000)"
     ],
     "language": "python",
     "metadata": {},
     "outputs": [
      {
       "output_type": "pyout",
       "prompt_number": 48,
       "text": [
        "21124"
       ]
      }
     ],
     "prompt_number": 48
    },
    {
     "cell_type": "code",
     "collapsed": false,
     "input": [],
     "language": "python",
     "metadata": {},
     "outputs": []
    }
   ],
   "metadata": {}
  }
 ]
}