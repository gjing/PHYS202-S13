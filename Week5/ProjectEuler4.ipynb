{
 "metadata": {
  "name": "ProjectEuler4"
 },
 "nbformat": 3,
 "nbformat_minor": 0,
 "worksheets": [
  {
   "cells": [
    {
     "cell_type": "markdown",
     "metadata": {},
     "source": [
      "Largest palindrome product\n",
      "=\n",
      "Problem 4\n",
      "-\n",
      "A palindromic number reads the same both ways. The largest palindrome made from the product of two 2-digit numbers is 9009 = 91 99.\n",
      "\n",
      "Find the largest palindrome made from the product of two 3-digit numbers."
     ]
    },
    {
     "cell_type": "code",
     "collapsed": false,
     "input": [
      "def isPalindrome(z):\n",
      "    p = str(z)\n",
      "    q = p[::-1]\n",
      "    return p==q\n",
      "def isNumPalindrome():\n",
      "    for x in reversed(range(100,1000)):\n",
      "        for y in reversed(range(100,1000)):\n",
      "            z = x*y\n",
      "            if isPalindrome(z):\n",
      "                return str(x)+\"x\"+str(y)+\"=\"+str(z)\n",
      "print isNumPalindrome()"
     ],
     "language": "python",
     "metadata": {},
     "outputs": [
      {
       "output_type": "stream",
       "stream": "stdout",
       "text": [
        "995x583=580085\n"
       ]
      }
     ],
     "prompt_number": 9
    },
    {
     "cell_type": "code",
     "collapsed": false,
     "input": [],
     "language": "python",
     "metadata": {},
     "outputs": []
    }
   ],
   "metadata": {}
  }
 ]
}