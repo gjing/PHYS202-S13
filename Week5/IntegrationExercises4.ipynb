{
 "metadata": {
  "name": "integrationexercises4.ipynb"
 },
 "nbformat": 3,
 "nbformat_minor": 0,
 "worksheets": [
  {
   "cells": [
    {
     "cell_type": "markdown",
     "metadata": {},
     "source": [
      "1) Consider the integral:\n",
      "    \n",
      "(a) Write code to calculate E(x) for values of x from 0 to 3 in steps of 0.1. Choose for\n",
      "yourself what method you will use for performing the integral and a suitable number of\n",
      "slices."
     ]
    },
    {
     "cell_type": "code",
     "collapsed": false,
     "input": [
      "import math\n",
      "import numpy as np\n",
      "f = lambda x: e**(-x**2.)"
     ],
     "language": "python",
     "metadata": {},
     "outputs": [],
     "prompt_number": 1
    },
    {
     "cell_type": "code",
     "collapsed": false,
     "input": [
      "def TrapezoidInt(a,b,f,dx):\n",
      "    integral = 0\n",
      "    x = a\n",
      "    while x < b-dx:\n",
      "        y1 = f(x)\n",
      "        y2 = f(x+dx)\n",
      "        y = (y1+y2)/2\n",
      "        x+=dx\n",
      "        integral+=y*dx\n",
      "    return integral    "
     ],
     "language": "python",
     "metadata": {},
     "outputs": [],
     "prompt_number": 2
    },
    {
     "cell_type": "code",
     "collapsed": false,
     "input": [
      "TrapezoidInt(0,3,f,.001)"
     ],
     "language": "python",
     "metadata": {},
     "outputs": [
      {
       "output_type": "pyout",
       "prompt_number": 3,
       "text": [
        "0.8862073481978311"
       ]
      }
     ],
     "prompt_number": 3
    },
    {
     "cell_type": "markdown",
     "metadata": {},
     "source": [
      "(b) Make a graph of E(x) as a function of x"
     ]
    },
    {
     "cell_type": "code",
     "collapsed": false,
     "input": [
      "x = arange(0,3,.0001)\n",
      "plot(x,f(x))\n",
      "title(\"$E(x)$ vs $x$\", size = 16)\n",
      "ylabel(\"$E(x)$\",size=14)\n",
      "xlabel(\"$x$\",size=14)"
     ],
     "language": "python",
     "metadata": {},
     "outputs": [
      {
       "output_type": "pyout",
       "prompt_number": 4,
       "text": [
        "<matplotlib.text.Text at 0x7d56d30>"
       ]
      },
      {
       "output_type": "display_data",
       "png": "[encoded data removed]",
       "text": [
        "<matplotlib.figure.Figure at 0x7d4f978>"
       ]
      }
     ],
     "prompt_number": 4
    },
    {
     "cell_type": "markdown",
     "metadata": {},
     "source": [
      "2) Consider a particle in a one-dimensional box of width L. The probability of \f",
      "\n",
      "\n",
      "\n",
      "finding the particle between a and b is given by:\n",
      "\n",
      "\n",
      "\n",
      "where (x) is the wavefunction. (You may need to look in a modern physics or chemistry text to get the wave functions for a particle in a box.)"
     ]
    },
    {
     "cell_type": "markdown",
     "metadata": {},
     "source": [
      "(a) What is the probability of \f",
      "\n",
      "\n",
      "\n",
      "finding the particle between L/3 and L/2 for the ground state and for the \f",
      "\n",
      "\n",
      "\n",
      "rst excited state? Perform the integral using both trapz and quad with an accuracy of 6 sig \f",
      "\n",
      "\n",
      "\n",
      "gs. How many bins did you need to use for trapz?"
     ]
    },
    {
     "cell_type": "code",
     "collapsed": false,
     "input": [
      "import scipy\n",
      "import scipy.integrate as integrate"
     ],
     "language": "python",
     "metadata": {},
     "outputs": [],
     "prompt_number": 5
    },
    {
     "cell_type": "code",
     "collapsed": false,
     "input": [
      "L = 1.\n",
      "g = lambda x:(2./L)*sin(pi*x/L)"
     ],
     "language": "python",
     "metadata": {},
     "outputs": [],
     "prompt_number": 6
    },
    {
     "cell_type": "code",
     "collapsed": false,
     "input": [
      "x = arange(L/3.,L/2.,.00001)\n",
      "print integrate.trapz(x,g(x))"
     ],
     "language": "python",
     "metadata": {},
     "outputs": [
      {
       "output_type": "stream",
       "stream": "stdout",
       "text": [
        "0.104339844433\n"
       ]
      }
     ],
     "prompt_number": 7
    },
    {
     "cell_type": "code",
     "collapsed": false,
     "input": [
      "print integrate.quad(g, L/3.,L/2.)"
     ],
     "language": "python",
     "metadata": {},
     "outputs": [
      {
       "output_type": "stream",
       "stream": "stdout",
       "text": [
        "(0.3183098861837907, 3.5339496460705744e-15)\n"
       ]
      }
     ],
     "prompt_number": 8
    },
    {
     "cell_type": "markdown",
     "metadata": {},
     "source": [
      "b) To see if these make sense make a plot for L=1."
     ]
    },
    {
     "cell_type": "code",
     "collapsed": false,
     "input": [
      "plot(x,g(x))\n",
      "title(\"$|\\psi(x)^2|$ vs $x$\", size = 16)\n",
      "ylabel(\"$|\\psi(x)^2|$\",size=14)\n",
      "xlabel(\"$x$\",size=14)"
     ],
     "language": "python",
     "metadata": {},
     "outputs": [
      {
       "output_type": "pyout",
       "prompt_number": 9,
       "text": [
        "<matplotlib.text.Text at 0x7fab550>"
       ]
      },
      {
       "output_type": "display_data",
       "png": "[encoded data removed]",
       "text": [
        "<matplotlib.figure.Figure at 0x7fa9278>"
       ]
      }
     ],
     "prompt_number": 9
    },
    {
     "cell_type": "markdown",
     "metadata": {},
     "source": [
      "3)\n",
      "\n",
      "(a) Write a user-defi\f",
      "ned function H(n,x) that calculates Hn(x) for given x and any integer n>=0. Use your function to make a plot that shows the wave functions for n=0, 1, 2,and 3, all on the same graph, in the range x = -4 to x = 4. Hint: There is a function factorial in the math package that calculates the factorial of an integer."
     ]
    },
    {
     "cell_type": "code",
     "collapsed": false,
     "input": [
      "def Hermite(n,x):\n",
      "    if n == 0:\n",
      "        return 1\n",
      "    if n == 1:\n",
      "        return 2*x\n",
      "    else:\n",
      "        return 2*x*Hermite(n-1,x) - 2*n*Hermite(n-2,x)"
     ],
     "language": "python",
     "metadata": {},
     "outputs": [],
     "prompt_number": 10
    },
    {
     "cell_type": "code",
     "collapsed": false,
     "input": [
      "x = arange(-4,4,.01)\n",
      "a = []\n",
      "b = []\n",
      "c = []\n",
      "d = []\n",
      "for num in x:\n",
      "    a.append(Hermite(0,num))\n",
      "    b.append(Hermite(1,num))\n",
      "    c.append(Hermite(2,num))\n",
      "    d.append(Hermite(3,num))\n",
      "plot(x,a, label='n=0')\n",
      "plot(x,b, label='n=1')\n",
      "plot(x,c, label='n=2')\n",
      "plot(x,d, label='n=3')\n",
      "title(\"$H_n(x)$ vs x\",size=20)\n",
      "legend(loc=4)\n",
      "xlabel(\"x\",size=16)\n",
      "ylabel(\"$H_n(x)$\",size=16)"
     ],
     "language": "python",
     "metadata": {},
     "outputs": [
      {
       "output_type": "pyout",
       "prompt_number": 11,
       "text": [
        "<matplotlib.text.Text at 0x860a9e8>"
       ]
      },
      {
       "output_type": "display_data",
       "png": "[encoded data removed]",
       "text": [
        "<matplotlib.figure.Figure at 0x7fb1e48>"
       ]
      }
     ],
     "prompt_number": 11
    },
    {
     "cell_type": "markdown",
     "metadata": {},
     "source": [
      "(b) Make a separate plot of the wave function for n = 30 from x = -10 to x = 10. If your code takes too long to run, then you are doing the calculation wrong - it should only take a second or so to run."
     ]
    },
    {
     "cell_type": "code",
     "collapsed": false,
     "input": [
      "x = arange(-10,10.01,0.01)\n",
      "y=Hermite(30., x)\n",
      "plot(x, y)\n",
      "ylabel(\"$\\psi_n(x)$\", fontsize = 15)\n",
      "xlabel(\"$x$\", fontsize = 15)\n",
      "show()\n",
      "#takes a while but it runs"
     ],
     "language": "python",
     "metadata": {},
     "outputs": [
      {
       "output_type": "display_data",
       "png": "[encoded data removed]",
       "text": [
        "<matplotlib.figure.Figure at 0x88ee208>"
       ]
      },
      {
       "output_type": "display_data",
       "png": "[encoded data removed]",
       "text": [
        "<matplotlib.figure.Figure at 0x860a320>"
       ]
      }
     ],
     "prompt_number": 16
    },
    {
     "cell_type": "code",
     "collapsed": false,
     "input": [
      "\n"
     ],
     "language": "python",
     "metadata": {},
     "outputs": []
    },
    {
     "cell_type": "markdown",
     "metadata": {},
     "source": [
      "(c) The quantum uncertainty of a particle in the n-th level of a quantum harmonic oscillator can be quantifi\f",
      "\n",
      "ed by its root-mean-square position\n",
      "\n",
      "\n",
      "\n",
      "Write code that evaluates this integral and calculates the uncertainty (i.e. the RMS position of the particle) for a given value of n. Calculate the uncertainty for n = 5. You should get an answer in the vicinity of 2.3"
     ]
    },
    {
     "cell_type": "code",
     "collapsed": false,
     "input": [
      "L=1.0\n",
      "g = lambda x:(x**2)*(Hermite(5,x))**2\n",
      "q = integrate.quad(g,-inf, +inf)\n",
      "print sqrt(q[0])"
     ],
     "language": "python",
     "metadata": {},
     "outputs": [
      {
       "output_type": "stream",
       "stream": "stdout",
       "text": [
        "2.07993284785e+60\n"
       ]
      }
     ],
     "prompt_number": 20
    },
    {
     "cell_type": "markdown",
     "metadata": {},
     "source": [
      "4) Monte Carlo integration in one dimension\n",
      "\n",
      "(a) Use the hit or miss Monte Carlo method to estimate the integral in the interval 0 \u0014<= x \u0014<= 1 as a function of N, the number of samples."
     ]
    },
    {
     "cell_type": "code",
     "collapsed": false,
     "input": [
      "f = lambda x: 4*np.sqrt(1-x**2)\n",
      "x = arange(0.,15.,0.001)\n",
      "xmax = 1.\n",
      "xmin = 0.\n",
      "subx = x[logical_and((x>xmin),(x<xmax))]\n",
      "ymax = max(f(subx))*1.05\n",
      "ymin = 0.\n",
      "N = 1000000\n",
      "samples_x = xmin + (xmax-xmin)*random_sample(N)\n",
      "samples_y = ymin + (ymax-ymin)*random_sample(N)\n",
      "newmask = (samples_y< f(samples_x))\n",
      "\n",
      "#Replot the function\n",
      "myplot = plot(x,f(x),lw=3)\n",
      "\n",
      "plot(samples_x[1:], samples_y[1:],\".\")\n",
      "\n",
      "#Show the ones below the function in red\n",
      "plot(samples_x[newmask[:]],samples_y[newmask[:]],'r.')\n",
      "\n",
      "#plot the box\n",
      "plot([xmin, xmin],[ymin,ymin],color='k', linestyle='--') #vertical left\n",
      "plot([xmax, xmax],[ymin,ymax], color='k', linestyle='--') #vertical right\n",
      "plot([xmin, xmax],[ymax, ymax], color='k', linestyle='--') #horizontal top\n",
      "\n",
      "I = (xmax-xmin)*(ymax-ymin)*sum(newmask)/newmask.size\n",
      "print I"
     ],
     "language": "python",
     "metadata": {},
     "outputs": [
      {
       "output_type": "stream",
       "stream": "stdout",
       "text": [
        "3.14334982832\n"
       ]
      },
      {
       "output_type": "display_data",
       "png": "[encoded data removed]",
       "text": [
        "<matplotlib.figure.Figure at 0xb071d30>"
       ]
      }
     ],
     "prompt_number": 50
    },
    {
     "cell_type": "markdown",
     "metadata": {},
     "source": [
      "b) Calculate the di\u000b",
      "\n",
      "erence between your result from part (a) and the exact result \u0019 for the N values from part (a)."
     ]
    },
    {
     "cell_type": "code",
     "collapsed": false,
     "input": [
      "Ierr = 100*math.fabs(100*(math.pi-I)/math.pi)\n",
      "print str(Ierr)+\"% error\""
     ],
     "language": "python",
     "metadata": {},
     "outputs": [
      {
       "output_type": "stream",
       "stream": "stdout",
       "text": [
        "5.59326089621% error\n"
       ]
      }
     ],
     "prompt_number": 53
    },
    {
     "cell_type": "code",
     "collapsed": false,
     "input": [],
     "language": "python",
     "metadata": {},
     "outputs": [],
     "prompt_number": 53
    },
    {
     "cell_type": "code",
     "collapsed": false,
     "input": [
      "def Ierr(N):\n",
      "    f = lambda x: 4*np.sqrt(1-x**2)\n",
      "    x = arange(0.,15.,0.001)\n",
      "    xmax = 1.\n",
      "    xmin = 0.\n",
      "    subx = x[logical_and((x>xmin),(x<xmax))]\n",
      "    ymax = max(f(subx))*1.05\n",
      "    ymin = 0.\n",
      "    samples_x = xmin + (xmax-xmin)*random_sample(N)\n",
      "    samples_y = ymin + (ymax-ymin)*random_sample(N)\n",
      "    newmask = (samples_y< f(samples_x))\n",
      "    I = (xmax-xmin)*(ymax-ymin)*sum(newmask)/newmask.size\n",
      "    return (I-math.pi)/math.pi"
     ],
     "language": "python",
     "metadata": {},
     "outputs": [],
     "prompt_number": 91
    },
    {
     "cell_type": "code",
     "collapsed": false,
     "input": [
      "print Ierr(10000)"
     ],
     "language": "python",
     "metadata": {},
     "outputs": [
      {
       "output_type": "stream",
       "stream": "stdout",
       "text": [
        "0.0106970452619\n"
       ]
      }
     ],
     "prompt_number": 92
    },
    {
     "cell_type": "markdown",
     "metadata": {},
     "source": [
      "(c) Make a log-log plot of the error you calculated in part(b) as a function of N. What is\n",
      "the approximate functional dependence of the error on N for large N, for example N \u0015 104?"
     ]
    },
    {
     "cell_type": "code",
     "collapsed": false,
     "input": [
      "x = [pow(10,i) for i in range(8)]\n",
      "y = []\n",
      "for num in x:\n",
      "    y.append(Ierr(num))\n",
      "print y"
     ],
     "language": "python",
     "metadata": {},
     "outputs": [
      {
       "output_type": "stream",
       "stream": "stdout",
       "text": [
        "[0.33690085352099297, 0.20321076816889355, 0.016044648675954579, 0.0066863427013077355, -0.0070837360899585356, 0.0023414149273643767, 0.00055531538706040469, 0.00043472693007288066]\n"
       ]
      }
     ],
     "prompt_number": 121
    },
    {
     "cell_type": "code",
     "collapsed": false,
     "input": [
      "plot(x,y)\n",
      "yscale('log')\n",
      "xscale('log')\n",
      "xlabel(\"n\",size = 16)\n",
      "ylabel(\"percent error\",size=16)"
     ],
     "language": "python",
     "metadata": {},
     "outputs": [
      {
       "output_type": "pyout",
       "prompt_number": 122,
       "text": [
        "<matplotlib.text.Text at 0xbf3a898>"
       ]
      },
      {
       "output_type": "display_data",
       "png": "[encoded data removed]",
       "text": [
        "<matplotlib.figure.Figure at 0x87167b8>"
       ]
      }
     ],
     "prompt_number": 122
    },
    {
     "cell_type": "markdown",
     "metadata": {},
     "source": [
      "(d) Estimate the same integral using the sample mean Monte Carlo method and compute\n",
      "the error as a function of the number of samples N for N \u0015 104\n",
      ". How many samples are\n",
      "needed to determine the result to two decimal places? What is the approximate functional\n",
      "dependence of the error on N for large N?"
     ]
    },
    {
     "cell_type": "code",
     "collapsed": false,
     "input": [
      "print Ierr(104)"
     ],
     "language": "python",
     "metadata": {},
     "outputs": [
      {
       "output_type": "stream",
       "stream": "stdout",
       "text": [
        "-0.0487436234562\n"
       ]
      }
     ],
     "prompt_number": 123
    },
    {
     "cell_type": "code",
     "collapsed": false,
     "input": [
      "print Ierr(2100)"
     ],
     "language": "python",
     "metadata": {},
     "outputs": [
      {
       "output_type": "stream",
       "stream": "stdout",
       "text": [
        "-0.00241731549172\n"
       ]
      }
     ],
     "prompt_number": 132
    },
    {
     "cell_type": "markdown",
     "metadata": {},
     "source": [
      "5) Integrals of mass density lead to three interesting quantities:"
     ]
    },
    {
     "cell_type": "markdown",
     "metadata": {},
     "source": [
      "(a) Use numerical integration to fi\f",
      "\n",
      "nd M, rcm, and Icm."
     ]
    },
    {
     "cell_type": "code",
     "collapsed": false,
     "input": [
      "p = lambda x,y,z: 100/((y+.1)+z**2)\n",
      "a = lambda x: p(x,\n",
      "b = lambda y:\n",
      "c = lambda z:\n",
      "d = lambda x,y: "
     ],
     "language": "python",
     "metadata": {},
     "outputs": [],
     "prompt_number": 133
    },
    {
     "cell_type": "code",
     "collapsed": false,
     "input": [],
     "language": "python",
     "metadata": {},
     "outputs": []
    }
   ],
   "metadata": {}
  }
 ]
}