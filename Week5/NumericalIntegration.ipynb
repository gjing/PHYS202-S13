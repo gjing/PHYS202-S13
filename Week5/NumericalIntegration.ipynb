{
 "metadata": {
  "name": "NumericalIntegration"
 },
 "nbformat": 3,
 "nbformat_minor": 0,
 "worksheets": [
  {
   "cells": [
    {
     "cell_type": "markdown",
     "metadata": {},
     "source": [
      "Trapezoidal Rule\n",
      "="
     ]
    },
    {
     "cell_type": "markdown",
     "metadata": {},
     "source": [
      "Exercise 1\n",
      "-"
     ]
    },
    {
     "cell_type": "code",
     "collapsed": false,
     "input": [
      "def TrapezoidInt(a,b,f,dx):\n",
      "    integral = 0\n",
      "    x = a\n",
      "    while x < b-dx:\n",
      "        y1 = f(x)\n",
      "        y2 = f(x+dx)\n",
      "        y = (y1+y2)/2\n",
      "        x+=dx\n",
      "        integral+=y*dx\n",
      "    return integral    "
     ],
     "language": "python",
     "metadata": {},
     "outputs": [],
     "prompt_number": 10
    },
    {
     "cell_type": "code",
     "collapsed": false,
     "input": [
      "f = lambda x: x**4 -2*x + 1"
     ],
     "language": "python",
     "metadata": {},
     "outputs": [],
     "prompt_number": 11
    },
    {
     "cell_type": "code",
     "collapsed": false,
     "input": [
      "a = 0.0\n",
      "b = 2.0\n",
      "dx = .001"
     ],
     "language": "python",
     "metadata": {},
     "outputs": [],
     "prompt_number": 14
    },
    {
     "cell_type": "code",
     "collapsed": false,
     "input": [
      "TrapezoidInt(a,b,f,dx)"
     ],
     "language": "python",
     "metadata": {},
     "outputs": [
      {
       "output_type": "pyout",
       "prompt_number": 15,
       "text": [
        "4.400002666665636"
       ]
      }
     ],
     "prompt_number": 15
    },
    {
     "cell_type": "code",
     "collapsed": false,
     "input": [
      "f = lambda x: x**4 -2*x + 1\n",
      "N = 10\n",
      "a = 0.0\n",
      "b = 2.0\n",
      "h = (b-a)/N\n",
      "s = 0.5*f(a) + 0.5*f(b)\n",
      "for k in range(1,N):\n",
      "    s+=f(a+k*h)\n",
      "print (h*s)"
     ],
     "language": "python",
     "metadata": {},
     "outputs": [
      {
       "output_type": "stream",
       "stream": "stdout",
       "text": [
        "4.50656\n"
       ]
      }
     ],
     "prompt_number": 17
    },
    {
     "cell_type": "code",
     "collapsed": false,
     "input": [
      "#N = 100\n",
      "f = lambda x: x**4 -2*x + 1\n",
      "N = 100\n",
      "a = 0.0\n",
      "b = 2.0\n",
      "h = (b-a)/N\n",
      "s = 0.5*f(a) + 0.5*f(b)\n",
      "for k in range(1,N):\n",
      "    s+=f(a+k*h)\n",
      "print (h*s)"
     ],
     "language": "python",
     "metadata": {},
     "outputs": [
      {
       "output_type": "stream",
       "stream": "stdout",
       "text": [
        "4.401066656\n"
       ]
      }
     ],
     "prompt_number": 18
    },
    {
     "cell_type": "code",
     "collapsed": false,
     "input": [
      "#N = 1000\n",
      "f = lambda x: x**4 -2*x + 1\n",
      "N = 1000\n",
      "a = 0.0\n",
      "b = 2.0\n",
      "h = (b-a)/N\n",
      "s = 0.5*f(a) + 0.5*f(b)\n",
      "for k in range(1,N):\n",
      "    s+=f(a+k*h)\n",
      "print (h*s)"
     ],
     "language": "python",
     "metadata": {},
     "outputs": [
      {
       "output_type": "stream",
       "stream": "stdout",
       "text": [
        "4.40001066667\n"
       ]
      }
     ],
     "prompt_number": 19
    },
    {
     "cell_type": "markdown",
     "metadata": {},
     "source": [
      "Simpson's Rule\n",
      "="
     ]
    },
    {
     "cell_type": "code",
     "collapsed": false,
     "input": [
      "def SimpsonsRule(a,b,f,N,h):\n",
      "    sum1 = 0.0\n",
      "    sum2 = 0.0\n",
      "    for k in range(1,(N/2)+1):\n",
      "        sum1+=f(a+((2.*k)-1)*h)\n",
      "    for k in range(1,(N/2)):\n",
      "        sum2+=f(a+(2.*k*h))\n",
      "    return (1/3.)*h*(f(a)+f(b)+(4.*sum1)+(2.*sum2))"
     ],
     "language": "python",
     "metadata": {},
     "outputs": [],
     "prompt_number": 56
    },
    {
     "cell_type": "markdown",
     "metadata": {},
     "source": [
      "Exercise 2\n",
      "-\n",
      "(a) Write code to calculate an aproximate value for the integral from example 1 using Simpon's rule with 10 slices"
     ]
    },
    {
     "cell_type": "code",
     "collapsed": false,
     "input": [
      "f = lambda x: x**4 -2*x + 1\n",
      "N = 10\n",
      "a = 0.0\n",
      "b = 2.0\n",
      "h = (b-a)/N\n",
      "print SimpsonsRule(a,b,f,N,h)"
     ],
     "language": "python",
     "metadata": {},
     "outputs": [
      {
       "output_type": "stream",
       "stream": "stdout",
       "text": [
        "4.40042666667\n"
       ]
      }
     ],
     "prompt_number": 59
    },
    {
     "cell_type": "markdown",
     "metadata": {},
     "source": [
      "(b) Percent Error"
     ]
    },
    {
     "cell_type": "code",
     "collapsed": false,
     "input": [
      "import math\n",
      "print str(math.fabs((4.4-SimpsonsRule(a,b,f,N,h))/4.4*100)) + \"%\""
     ],
     "language": "python",
     "metadata": {},
     "outputs": [
      {
       "output_type": "stream",
       "stream": "stdout",
       "text": [
        "0.00969696969697%\n"
       ]
      }
     ],
     "prompt_number": 66
    },
    {
     "cell_type": "markdown",
     "metadata": {},
     "source": [
      "(c) hundred/thousand slices"
     ]
    },
    {
     "cell_type": "code",
     "collapsed": false,
     "input": [
      "f = lambda x: x**4 -2*x + 1\n",
      "N = 100\n",
      "a = 0.0\n",
      "b = 2.0\n",
      "h = (b-a)/N\n",
      "print \"Simpson's Rule N=100: \"+str(SimpsonsRule(a,b,f,N,h))\n",
      "print \"Trapezoid Rule N=100: \"+str(TrapezoidInt(a,b,f,h))\n",
      "N = 1000\n",
      "h = (b-a)/N\n",
      "print \"Simpson's Rule N=1000: \"+str(SimpsonsRule(a,b,f,N,h))\n",
      "print \"Trapezoid Rule N=1000: \"+str(TrapezoidInt(a,b,f,h))"
     ],
     "language": "python",
     "metadata": {},
     "outputs": [
      {
       "output_type": "stream",
       "stream": "stdout",
       "text": [
        "Simpson's Rule N=100: 4.40000004267\n",
        "Trapezoid Rule N=100: 4.1469712944\n",
        "Simpson's Rule N=1000: 4.4\n",
        "Trapezoid Rule N=1000: 4.37407057073\n"
       ]
      }
     ],
     "prompt_number": 68
    },
    {
     "cell_type": "code",
     "collapsed": false,
     "input": [
      "import scipy\n",
      "import scipy.integrate as ingrt"
     ],
     "language": "python",
     "metadata": {},
     "outputs": [],
     "prompt_number": 71
    },
    {
     "cell_type": "code",
     "collapsed": false,
     "input": [
      "from scipy.special import jv\n",
      "result = ingrt.quad(lambda x: scipy.special.jv(2.5,x),0,4.5)\n",
      "print result"
     ],
     "language": "python",
     "metadata": {},
     "outputs": [
      {
       "output_type": "stream",
       "stream": "stdout",
       "text": [
        "(1.1178179380783249, 7.866317182537226e-09)\n"
       ]
      }
     ],
     "prompt_number": 73
    },
    {
     "cell_type": "markdown",
     "metadata": {},
     "source": [
      "Exercise 3\n",
      "-"
     ]
    },
    {
     "cell_type": "code",
     "collapsed": false,
     "input": [
      "#syntax error\n",
      "theta = linspace(0,pi,0.3)\n",
      "Iwrong = ingrt.trapz(theta,cos(theta))\n",
      "print Iwrong"
     ],
     "language": "python",
     "metadata": {},
     "outputs": [
      {
       "output_type": "stream",
       "stream": "stdout",
       "text": [
        "0.0\n"
       ]
      }
     ],
     "prompt_number": 100
    },
    {
     "cell_type": "code",
     "collapsed": false,
     "input": [
      "theta = linspace(0.,0.3,pi)\n",
      "print math.fabs(ingrt.trapz(theta, cos(theta)))"
     ],
     "language": "python",
     "metadata": {},
     "outputs": [
      {
       "output_type": "stream",
       "stream": "stdout",
       "text": [
        "0.00836495163714\n"
       ]
      }
     ],
     "prompt_number": 101
    },
    {
     "cell_type": "code",
     "collapsed": false,
     "input": [],
     "language": "python",
     "metadata": {},
     "outputs": []
    }
   ],
   "metadata": {}
  }
 ]
}