{
 "metadata": {
  "name": "projecteuler19.ipynb"
 },
 "nbformat": 3,
 "nbformat_minor": 0,
 "worksheets": [
  {
   "cells": [
    {
     "cell_type": "markdown",
     "metadata": {},
     "source": [
      "Counting Sundays\n",
      "=\n",
      "Problem 19\n",
      "-\n",
      "You are given the following information, but you may prefer to do some research for yourself.\n",
      "\n",
      "1 Jan 1900 was a Monday.\n",
      "\n",
      "Thirty days has September,\n",
      "\n",
      "April, June and November.\n",
      "\n",
      "All the rest have thirty-one,\n",
      "\n",
      "Saving February alone,\n",
      "\n",
      "Which has twenty-eight, rain or shine.\n",
      "\n",
      "And on leap years, twenty-nine.\n",
      "\n",
      "A leap year occurs on any year evenly divisible by 4, but not on a century unless it is divisible by 400.\n",
      "\n",
      "How many Sundays fell on the first of the month during the twentieth century (1 Jan 1901 to 31 Dec 2000)?"
     ]
    },
    {
     "cell_type": "code",
     "collapsed": false,
     "input": [
      "monthdays=[31,0,31,30,31,30,31,31,30,31,30,31]\n",
      "d=0\n",
      "sundays=0\n",
      "for i in range(0,101):\n",
      "    if not (1900+i)%400 or (not (1900+i)%4 and (1900+i)%100):\n",
      "        monthdays[1]=29\n",
      "    else:\n",
      "        monthdays[1]=28\n",
      "    for t in monthdays:             \n",
      "        if not (d-1)%7 and i>=1:\n",
      "            sundays+=1\n",
      "        d+=t\n",
      "                 \n",
      "print sundays"
     ],
     "language": "python",
     "metadata": {},
     "outputs": [
      {
       "output_type": "stream",
       "stream": "stdout",
       "text": [
        "171\n"
       ]
      }
     ],
     "prompt_number": 1
    },
    {
     "cell_type": "code",
     "collapsed": false,
     "input": [],
     "language": "python",
     "metadata": {},
     "outputs": [],
     "prompt_number": 14
    },
    {
     "cell_type": "code",
     "collapsed": false,
     "input": [],
     "language": "python",
     "metadata": {},
     "outputs": []
    }
   ],
   "metadata": {}
  }
 ]
}