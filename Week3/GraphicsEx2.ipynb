{
 "metadata": {
  "name": "GraphicsEx2"
 },
 "nbformat": 3,
 "nbformat_minor": 0,
 "worksheets": [
  {
   "cells": [
    {
     "cell_type": "markdown",
     "metadata": {},
     "source": [
      "1(a)\n",
      "-\n",
      "\n",
      "\\begin{equation}\n",
      "\\psi_k(x) = A\\biggl(\\frac{ik - a\\tanh(ax)}{ik+x}\\biggr)e^{\\+ikx}\n",
      "\\end{equation}"
     ]
    },
    {
     "cell_type": "markdown",
     "metadata": {},
     "source": [
      "1(b)\n",
      "-\n",
      "\\begin{equation}\n",
      "v_1 = m_2\\sqrt{\\frac{2G}{M}\\biggl(\\frac{1}{r}\\-\\frac{1}{r_0}\\biggr)}\n",
      "\\end{equation}"
     ]
    },
    {
     "cell_type": "markdown",
     "metadata": {},
     "source": [
      "1(c)\n",
      "-\n",
      "\\begin{equation}\n",
      "f(\\theta) = \\frac{\\hbar}{p}\\sum\\limits_{\\ell=0}^\\infty (2\\ell\\+1)e^{i\\delta_\\ell}\\sin(\\delta_\\ell)P_\\ell(\\cos\\theta)\n",
      "\\end{equation}"
     ]
    },
    {
     "cell_type": "markdown",
     "metadata": {},
     "source": [
      "1(d)\n",
      "-\n",
      "\\begin{equation}\n",
      "\\frac{d\\sigma}{d\\Omega} = \\frac{k\\pi^2(\\pi-\\theta)}{mu_2^0\\theta^2(2\\pi \u2212 \\theta)^2\\sin\\theta}\n",
      "\\end{equation}"
     ]
    },
    {
     "cell_type": "markdown",
     "metadata": {},
     "source": [
      "1(e)\n",
      "-\n",
      "\\begin{equation}\n",
      "\\langle f\\rangle = \\frac{1}{\\tau}\\int\\limits_0^\\tau f(t)dt\n",
      "\\end{equation}"
     ]
    },
    {
     "cell_type": "markdown",
     "metadata": {},
     "source": [
      "1(f)\n",
      "-\n",
      "\\begin{equation}\n",
      "\\Omega_S = \\omega\\frac{\\sin\\alpha}{\\sin\\theta} = \\frac{L}{\\lambda_1}=\n",
      "\\omega\\frac{\\sqrt{\\lambda_3^2\\+(\\lambda_1^2 - \\lambda_3^2)\\sin\\alpha}}{\\lambda_1}\n",
      "\\end{equation}"
     ]
    },
    {
     "cell_type": "markdown",
     "metadata": {},
     "source": [
      "2\n",
      "-"
     ]
    },
    {
     "cell_type": "code",
     "collapsed": false,
     "input": [
      "import numpy as py\n",
      "import math\n",
      "t = arange(-pi, pi+1, pi/25)\n",
      "s = -1/(np.cosh(t))**(2)"
     ],
     "language": "python",
     "metadata": {},
     "outputs": [],
     "prompt_number": 52
    },
    {
     "cell_type": "code",
     "collapsed": false,
     "input": [
      "plot(t,s, linewidth=2, label=\"$U(x)$\")\n",
      "xlabel(\"$x(rad)$\",fontsize=16)\n",
      "ylabel(\"$U(x),\\psi^2(x)$\",fontsize=16)\n",
      "grid(True)\n",
      "legend()"
     ],
     "language": "python",
     "metadata": {},
     "outputs": [
      {
       "output_type": "pyout",
       "prompt_number": 62,
       "text": [
        "<matplotlib.legend.Legend at 0x5042ad0>"
       ]
      },
      {
       "output_type": "display_data",
       "png": "[encoded data removed]"
      }
     ],
     "prompt_number": 62
    },
    {
     "cell_type": "code",
     "collapsed": false,
     "input": [],
     "language": "python",
     "metadata": {},
     "outputs": []
    }
   ],
   "metadata": {}
  }
 ]
}